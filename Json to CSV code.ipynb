{
 "cells": [
  {
   "cell_type": "code",
   "execution_count": 1,
   "id": "0ec4fdea",
   "metadata": {},
   "outputs": [],
   "source": [
    "url = 'http://api.openweathermap.org/data/2.5/air_pollution/history?lat=58.49&lon=-119.39&start=1641013200&end=1693540799&appid=7c04c17af3552565c3938865b59d1e9f'    "
   ]
  },
  {
   "cell_type": "code",
   "execution_count": 2,
   "id": "3a2ab81b",
   "metadata": {},
   "outputs": [
    {
     "name": "stdout",
     "output_type": "stream",
     "text": [
      "<Response [200]>\n"
     ]
    }
   ],
   "source": [
    "import requests\n",
    "import json\n",
    "import csv\n",
    "from datetime import datetime\n",
    "\n",
    "response = requests.get(url)\n",
    "\n",
    "if response.status_code == 200:\n",
    "    json_data = response.json()\n",
    "else:\n",
    "    print(\"Error:\", response.status_code)\n",
    "    exit()\n",
    "    \n",
    "print(response)"
   ]
  },
  {
   "cell_type": "code",
   "execution_count": 3,
   "id": "77406eaa",
   "metadata": {},
   "outputs": [],
   "source": [
    "with open(\"json_data.json\", \"w\") as json_file:\n",
    "    json.dump(json_data, json_file, indent=4)"
   ]
  },
  {
   "cell_type": "code",
   "execution_count": 4,
   "id": "440f4104",
   "metadata": {},
   "outputs": [
    {
     "name": "stdout",
     "output_type": "stream",
     "text": [
      "Formatted data has been saved to formatted_data_FINAL.csv\n"
     ]
    }
   ],
   "source": [
    "# Create a CSV file for writing\n",
    "csv_file_path = \"formatted_data_FINAL.csv\"\n",
    "\n",
    "# Create a list to store the formatted data\n",
    "formatted_data = []\n",
    "\n",
    "# Iterate through the JSON data and format the date\n",
    "for item in json_data[\"list\"]:\n",
    "    timestamp = item[\"dt\"]\n",
    "    date_obj = datetime.utcfromtimestamp(timestamp)\n",
    "    formatted_date = date_obj.strftime(\"%Y-%m-%d %H:%M:%S\")\n",
    "    \n",
    "    # Create a new dictionary to hold the formatted data\n",
    "    formatted_item = {\"Date\": formatted_date, \"aqi\": item[\"main\"][\"aqi\"]}\n",
    "    \n",
    "    # Extract and add each chemical compound as a separate column\n",
    "    for compound, value in item[\"components\"].items():\n",
    "        formatted_item[compound] = value\n",
    "    \n",
    "    formatted_data.append(formatted_item)\n",
    "\n",
    "# Extract the keys (column headers) from the first item in the list\n",
    "fieldnames = formatted_data[0].keys()\n",
    "\n",
    "# Write the formatted data to the CSV file\n",
    "with open(csv_file_path, mode=\"w\", newline=\"\") as csv_file:\n",
    "    writer = csv.DictWriter(csv_file, fieldnames=fieldnames)\n",
    "    \n",
    "    # Write the header row\n",
    "    writer.writeheader()\n",
    "    \n",
    "    # Write the data rows\n",
    "    for item in formatted_data:\n",
    "        writer.writerow(item)\n",
    "\n",
    "print(f\"Formatted data has been saved to {csv_file_path}\")\n"
   ]
  },
  {
   "cell_type": "code",
   "execution_count": null,
   "id": "06986c15",
   "metadata": {},
   "outputs": [],
   "source": []
  }
 ],
 "metadata": {
  "kernelspec": {
   "display_name": "Python 3 (ipykernel)",
   "language": "python",
   "name": "python3"
  },
  "language_info": {
   "codemirror_mode": {
    "name": "ipython",
    "version": 3
   },
   "file_extension": ".py",
   "mimetype": "text/x-python",
   "name": "python",
   "nbconvert_exporter": "python",
   "pygments_lexer": "ipython3",
   "version": "3.10.9"
  }
 },
 "nbformat": 4,
 "nbformat_minor": 5
}
